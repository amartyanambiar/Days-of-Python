{
 "metadata": {
  "language_info": {
   "codemirror_mode": {
    "name": "ipython",
    "version": 3
   },
   "file_extension": ".py",
   "mimetype": "text/x-python",
   "name": "python",
   "nbconvert_exporter": "python",
   "pygments_lexer": "ipython3",
   "version": "3.9.5"
  },
  "orig_nbformat": 4,
  "kernelspec": {
   "name": "python3",
   "display_name": "Python 3.9.5 64-bit"
  },
  "interpreter": {
   "hash": "767d51c1340bd893661ea55ea3124f6de3c7a262a8b4abca0554b478b1e2ff90"
  }
 },
 "nbformat": 4,
 "nbformat_minor": 2,
 "cells": [
  {
   "source": [
    "## Dictionaries\n",
    "- Mutable\n",
    "- Key : Value"
   ],
   "cell_type": "markdown",
   "metadata": {}
  },
  {
   "source": [
    "#### Creating "
   ],
   "cell_type": "markdown",
   "metadata": {}
  },
  {
   "cell_type": "code",
   "execution_count": 13,
   "metadata": {},
   "outputs": [
    {
     "output_type": "stream",
     "name": "stdout",
     "text": [
      "<class 'dict'>\n{1: 'One', 2: 'Two', 3: 'Three', 4: 'Fourth'}\n"
     ]
    }
   ],
   "source": [
    "dict1 = {1:\"One\", 2:\"Two\", 3:\"Three\", 4:\"Fourth\"}\n",
    "print(type(dict1))\n",
    "print(dict1)"
   ]
  },
  {
   "cell_type": "code",
   "execution_count": 14,
   "metadata": {},
   "outputs": [
    {
     "output_type": "stream",
     "name": "stdout",
     "text": [
      "{5: 'Five', 6: 'Six'}\n"
     ]
    }
   ],
   "source": [
    "dict2 = dict([(5,\"Five\"),(6,\"Six\")])   #tuples to dictionary\n",
    "print(dict2)"
   ]
  },
  {
   "source": [
    "#### Accessing "
   ],
   "cell_type": "markdown",
   "metadata": {}
  },
  {
   "cell_type": "code",
   "execution_count": 15,
   "metadata": {},
   "outputs": [
    {
     "output_type": "stream",
     "name": "stdout",
     "text": [
      "Two\n"
     ]
    }
   ],
   "source": [
    "print(dict1[2])      # key is taken as the input , not the index*"
   ]
  },
  {
   "cell_type": "code",
   "execution_count": 16,
   "metadata": {},
   "outputs": [
    {
     "output_type": "stream",
     "name": "stdout",
     "text": [
      "Six\n"
     ]
    }
   ],
   "source": [
    "print(dict2[6])"
   ]
  },
  {
   "source": [
    "#### Adding key-value pairs"
   ],
   "cell_type": "markdown",
   "metadata": {}
  },
  {
   "cell_type": "code",
   "execution_count": 17,
   "metadata": {},
   "outputs": [
    {
     "output_type": "stream",
     "name": "stdout",
     "text": [
      "One\n{1: 'Uno', 2: 'Two', 3: 'Three', 4: 'Fourth'}\n"
     ]
    }
   ],
   "source": [
    "print(dict1[1])\n",
    "dict1[1]='Uno'     #changing the value of a particular key\n",
    "print(dict1)"
   ]
  },
  {
   "cell_type": "code",
   "execution_count": 18,
   "metadata": {},
   "outputs": [
    {
     "output_type": "stream",
     "name": "stdout",
     "text": [
      "{1: 'Uno', 2: 'Two', 3: 'Three', 4: 'Fourth', 5: 'Five'}\n"
     ]
    }
   ],
   "source": [
    "dict1[5] =\"Five\"    #adding key-value pair\n",
    "print(dict1)"
   ]
  },
  {
   "source": [
    "#### Deleting Key-Value pairs"
   ],
   "cell_type": "markdown",
   "metadata": {}
  },
  {
   "cell_type": "code",
   "execution_count": 19,
   "metadata": {},
   "outputs": [
    {
     "output_type": "stream",
     "name": "stdout",
     "text": [
      "{2: 'Two', 3: 'Three', 4: 'Fourth', 5: 'Five'}\n"
     ]
    }
   ],
   "source": [
    "dict1.pop(1)   # deletes a particular pair of key mentioned\n",
    "print(dict1)"
   ]
  },
  {
   "cell_type": "code",
   "execution_count": 21,
   "metadata": {},
   "outputs": [
    {
     "output_type": "stream",
     "name": "stdout",
     "text": [
      "{}\n"
     ]
    }
   ],
   "source": [
    "dict1.clear()   #clears the whole dictionary\n",
    "print(dict1)"
   ]
  },
  {
   "source": [
    "#### Other Functions"
   ],
   "cell_type": "markdown",
   "metadata": {}
  },
  {
   "cell_type": "code",
   "execution_count": 23,
   "metadata": {},
   "outputs": [
    {
     "output_type": "stream",
     "name": "stdout",
     "text": [
      "{5: 'Five', 6: 'Six'}\n"
     ]
    }
   ],
   "source": [
    "print(dict2)"
   ]
  },
  {
   "cell_type": "code",
   "execution_count": 22,
   "metadata": {},
   "outputs": [
    {
     "output_type": "stream",
     "name": "stdout",
     "text": [
      "dict_keys([5, 6])\n"
     ]
    }
   ],
   "source": [
    "print(dict2.keys())   # prints keys"
   ]
  },
  {
   "cell_type": "code",
   "execution_count": 25,
   "metadata": {},
   "outputs": [
    {
     "output_type": "stream",
     "name": "stdout",
     "text": [
      "dict_values(['Five', 'Six'])\n"
     ]
    }
   ],
   "source": [
    "print(dict2.values())   # prints values"
   ]
  },
  {
   "cell_type": "code",
   "execution_count": 26,
   "metadata": {},
   "outputs": [
    {
     "output_type": "stream",
     "name": "stdout",
     "text": [
      "dict_items([(5, 'Five'), (6, 'Six')])\n"
     ]
    }
   ],
   "source": [
    "print(dict2.items())      # prints items"
   ]
  },
  {
   "cell_type": "code",
   "execution_count": 30,
   "metadata": {},
   "outputs": [
    {
     "output_type": "stream",
     "name": "stdout",
     "text": [
      "Five\n"
     ]
    }
   ],
   "source": [
    "print(dict2.get(5))       #retrieve a particular value for the input key"
   ]
  }
 ]
}