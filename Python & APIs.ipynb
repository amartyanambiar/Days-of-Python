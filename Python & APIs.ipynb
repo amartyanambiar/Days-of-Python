{
 "cells": [
  {
   "cell_type": "markdown",
   "id": "3ef5e234",
   "metadata": {},
   "source": [
    "### Example API "
   ]
  },
  {
   "cell_type": "code",
   "execution_count": 1,
   "id": "a676d8fe",
   "metadata": {},
   "outputs": [],
   "source": [
    "import requests\n",
    "response = requests.get(\"https://www.boredapi.com/api/activity\")  #response is an activity to perform"
   ]
  },
  {
   "cell_type": "code",
   "execution_count": 2,
   "id": "d11a58af",
   "metadata": {},
   "outputs": [
    {
     "data": {
      "text/plain": [
       "200"
      ]
     },
     "execution_count": 2,
     "metadata": {},
     "output_type": "execute_result"
    }
   ],
   "source": [
    "response.status_code       #returns the status code 200 : Success, 400 : Failed"
   ]
  },
  {
   "cell_type": "code",
   "execution_count": 3,
   "id": "c8ae63b1",
   "metadata": {
    "scrolled": true
   },
   "outputs": [
    {
     "data": {
      "text/plain": [
       "'utf-8'"
      ]
     },
     "execution_count": 3,
     "metadata": {},
     "output_type": "execute_result"
    }
   ],
   "source": [
    "response.encoding        #encoding"
   ]
  },
  {
   "cell_type": "code",
   "execution_count": 4,
   "id": "fc9d6397",
   "metadata": {},
   "outputs": [
    {
     "data": {
      "text/plain": [
       "'https://www.boredapi.com/api/activity'"
      ]
     },
     "execution_count": 4,
     "metadata": {},
     "output_type": "execute_result"
    }
   ],
   "source": [
    "response.url"
   ]
  },
  {
   "cell_type": "code",
   "execution_count": 5,
   "id": "d344cd19",
   "metadata": {},
   "outputs": [
    {
     "data": {
      "text/plain": [
       "{'Server': 'Cowboy', 'Connection': 'keep-alive', 'X-Powered-By': 'Express', 'Access-Control-Allow-Origin': '*', 'Access-Control-Allow-Headers': 'Origin, X-Requested-With, Content-Type, Accept', 'Content-Type': 'application/json; charset=utf-8', 'Content-Length': '140', 'Etag': 'W/\"8c-bscgsKfIcLVMpUEivyqU2ROV7D8\"', 'Date': 'Wed, 28 Jul 2021 16:01:48 GMT', 'Via': '1.1 vegur'}"
      ]
     },
     "execution_count": 5,
     "metadata": {},
     "output_type": "execute_result"
    }
   ],
   "source": [
    "response.headers    #headers "
   ]
  },
  {
   "cell_type": "code",
   "execution_count": 6,
   "id": "287c0090",
   "metadata": {},
   "outputs": [
    {
     "data": {
      "text/plain": [
       "'application/json; charset=utf-8'"
      ]
     },
     "execution_count": 6,
     "metadata": {},
     "output_type": "execute_result"
    }
   ],
   "source": [
    "headers = response.headers\n",
    "headers['Content-Type']"
   ]
  },
  {
   "cell_type": "code",
   "execution_count": 7,
   "id": "a8a6dce4",
   "metadata": {},
   "outputs": [
    {
     "data": {
      "text/plain": [
       "'{\"activity\":\"Volunteer at your local food pantry\",\"type\":\"charity\",\"participants\":1,\"price\":0,\"link\":\"\",\"key\":\"1878070\",\"accessibility\":0.1}'"
      ]
     },
     "execution_count": 7,
     "metadata": {},
     "output_type": "execute_result"
    }
   ],
   "source": [
    "response.text"
   ]
  },
  {
   "cell_type": "markdown",
   "id": "9ba31796",
   "metadata": {},
   "source": [
    "## Converting json object to python data type"
   ]
  },
  {
   "cell_type": "code",
   "execution_count": 8,
   "id": "43bbf5bf",
   "metadata": {},
   "outputs": [
    {
     "name": "stdout",
     "output_type": "stream",
     "text": [
      "<class 'str'>\n",
      "{\"activity\":\"Volunteer at your local food pantry\",\"type\":\"charity\",\"participants\":1,\"price\":0,\"link\":\"\",\"key\":\"1878070\",\"accessibility\":0.1}\n",
      "\n",
      " <class 'dict'>\n",
      "{'activity': 'Volunteer at your local food pantry', 'type': 'charity', 'participants': 1, 'price': 0, 'link': '', 'key': '1878070', 'accessibility': 0.1}\n"
     ]
    }
   ],
   "source": [
    "import json\n",
    "data = response.text\n",
    "python_converted = json.loads(data)\n",
    "print(type(data))\n",
    "print(data)\n",
    "print(\"\\n\",type(python_converted))\n",
    "print(python_converted)"
   ]
  },
  {
   "cell_type": "code",
   "execution_count": 9,
   "id": "af52cba4",
   "metadata": {},
   "outputs": [
    {
     "name": "stdout",
     "output_type": "stream",
     "text": [
      "Volunteer at your local food pantry\n"
     ]
    }
   ],
   "source": [
    "print(python_converted['activity'])"
   ]
  }
 ],
 "metadata": {
  "kernelspec": {
   "display_name": "Python 3 (ipykernel)",
   "language": "python",
   "name": "python3"
  },
  "language_info": {
   "codemirror_mode": {
    "name": "ipython",
    "version": 3
   },
   "file_extension": ".py",
   "mimetype": "text/x-python",
   "name": "python",
   "nbconvert_exporter": "python",
   "pygments_lexer": "ipython3",
   "version": "3.8.8"
  }
 },
 "nbformat": 4,
 "nbformat_minor": 5
}
