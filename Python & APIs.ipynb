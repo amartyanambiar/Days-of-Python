{
 "cells": [
  {
   "cell_type": "markdown",
   "id": "3ef5e234",
   "metadata": {},
   "source": [
    "### Example API "
   ]
  },
  {
   "cell_type": "code",
   "execution_count": 2,
   "id": "a676d8fe",
   "metadata": {},
   "outputs": [],
   "source": [
    "import requests\n",
    "response = requests.get(\"https://www.boredapi.com/api/activity\")  #response is an activity to perform"
   ]
  },
  {
   "cell_type": "code",
   "execution_count": 3,
   "id": "d11a58af",
   "metadata": {},
   "outputs": [
    {
     "data": {
      "text/plain": [
       "200"
      ]
     },
     "execution_count": 3,
     "metadata": {},
     "output_type": "execute_result"
    }
   ],
   "source": [
    "response.status_code       #returns the status code 200 : Success, 400 : Failed"
   ]
  },
  {
   "cell_type": "code",
   "execution_count": 4,
   "id": "c8ae63b1",
   "metadata": {
    "scrolled": true
   },
   "outputs": [
    {
     "data": {
      "text/plain": [
       "'utf-8'"
      ]
     },
     "execution_count": 4,
     "metadata": {},
     "output_type": "execute_result"
    }
   ],
   "source": [
    "response.encoding        #encoding"
   ]
  },
  {
   "cell_type": "code",
   "execution_count": 5,
   "id": "fc9d6397",
   "metadata": {},
   "outputs": [
    {
     "data": {
      "text/plain": [
       "'https://www.boredapi.com/api/activity'"
      ]
     },
     "execution_count": 5,
     "metadata": {},
     "output_type": "execute_result"
    }
   ],
   "source": [
    "response.url"
   ]
  },
  {
   "cell_type": "code",
   "execution_count": 6,
   "id": "d344cd19",
   "metadata": {},
   "outputs": [
    {
     "data": {
      "text/plain": [
       "{'Server': 'Cowboy', 'Connection': 'keep-alive', 'X-Powered-By': 'Express', 'Access-Control-Allow-Origin': '*', 'Access-Control-Allow-Headers': 'Origin, X-Requested-With, Content-Type, Accept', 'Content-Type': 'application/json; charset=utf-8', 'Content-Length': '141', 'Etag': 'W/\"8d-kCHcv1nAi41TxLMowrAUkBepcxc\"', 'Date': 'Fri, 30 Jul 2021 17:30:18 GMT', 'Via': '1.1 vegur'}"
      ]
     },
     "execution_count": 6,
     "metadata": {},
     "output_type": "execute_result"
    }
   ],
   "source": [
    "response.headers    #headers "
   ]
  },
  {
   "cell_type": "code",
   "execution_count": 7,
   "id": "287c0090",
   "metadata": {},
   "outputs": [
    {
     "data": {
      "text/plain": [
       "'application/json; charset=utf-8'"
      ]
     },
     "execution_count": 7,
     "metadata": {},
     "output_type": "execute_result"
    }
   ],
   "source": [
    "headers = response.headers\n",
    "headers['Content-Type']"
   ]
  },
  {
   "cell_type": "code",
   "execution_count": 8,
   "id": "a8a6dce4",
   "metadata": {},
   "outputs": [
    {
     "data": {
      "text/plain": [
       "'{\"activity\":\"Play a game of tennis with a friend\",\"type\":\"social\",\"participants\":2,\"price\":0.1,\"link\":\"\",\"key\":\"1093640\",\"accessibility\":0.4}'"
      ]
     },
     "execution_count": 8,
     "metadata": {},
     "output_type": "execute_result"
    }
   ],
   "source": [
    "response.text"
   ]
  },
  {
   "cell_type": "markdown",
   "id": "9ba31796",
   "metadata": {},
   "source": [
    "## Converting json object to python data type"
   ]
  },
  {
   "cell_type": "code",
   "execution_count": 9,
   "id": "43bbf5bf",
   "metadata": {},
   "outputs": [
    {
     "name": "stdout",
     "output_type": "stream",
     "text": [
      "<class 'str'>\n",
      "{\"activity\":\"Play a game of tennis with a friend\",\"type\":\"social\",\"participants\":2,\"price\":0.1,\"link\":\"\",\"key\":\"1093640\",\"accessibility\":0.4}\n",
      "\n",
      " <class 'dict'>\n",
      "{'activity': 'Play a game of tennis with a friend', 'type': 'social', 'participants': 2, 'price': 0.1, 'link': '', 'key': '1093640', 'accessibility': 0.4}\n"
     ]
    }
   ],
   "source": [
    "import json\n",
    "data = response.text\n",
    "python_converted = json.loads(data)\n",
    "print(type(data))\n",
    "print(data)\n",
    "print(\"\\n\",type(python_converted))\n",
    "print(python_converted)"
   ]
  },
  {
   "cell_type": "code",
   "execution_count": 10,
   "id": "af52cba4",
   "metadata": {},
   "outputs": [
    {
     "name": "stdout",
     "output_type": "stream",
     "text": [
      "Play a game of tennis with a friend\n"
     ]
    }
   ],
   "source": [
    "print(python_converted['activity'])"
   ]
  },
  {
   "cell_type": "markdown",
   "id": "6326fed3",
   "metadata": {},
   "source": [
    "## GET with Parameters"
   ]
  },
  {
   "cell_type": "code",
   "execution_count": 61,
   "id": "d0077b00",
   "metadata": {},
   "outputs": [
    {
     "data": {
      "text/plain": [
       "dict_keys(['meta', 'results'])"
      ]
     },
     "execution_count": 61,
     "metadata": {},
     "output_type": "execute_result"
    }
   ],
   "source": [
    "response = requests.get(\"https://api.openaq.org/v1/cities\")\n",
    "conv = json.loads(response.text)\n",
    "conv.keys()"
   ]
  },
  {
   "cell_type": "code",
   "execution_count": 58,
   "id": "66c2e498",
   "metadata": {},
   "outputs": [
    {
     "data": {
      "text/plain": [
       "{'country': 'US', 'name': '019', 'city': '019', 'count': 704, 'locations': 1}"
      ]
     },
     "execution_count": 58,
     "metadata": {},
     "output_type": "execute_result"
    }
   ],
   "source": [
    "conv['results'][1]"
   ]
  },
  {
   "cell_type": "code",
   "execution_count": 63,
   "id": "67da5047",
   "metadata": {},
   "outputs": [
    {
     "name": "stdout",
     "output_type": "stream",
     "text": [
      "https://api.openaq.org/v1/cities?country=IN\n"
     ]
    },
    {
     "data": {
      "text/plain": [
       "{'country': 'IN',\n",
       " 'name': 'Agra',\n",
       " 'city': 'Agra',\n",
       " 'count': 21512785,\n",
       " 'locations': 1}"
      ]
     },
     "execution_count": 63,
     "metadata": {},
     "output_type": "execute_result"
    }
   ],
   "source": [
    "response = requests.get(\"https://api.openaq.org/v1/cities\",params={'country':'IN'})\n",
    "print(response.url)\n",
    "\n",
    "conv = json.loads(response.text)\n",
    "conv['results'][1]"
   ]
  },
  {
   "cell_type": "code",
   "execution_count": null,
   "id": "6e51a087",
   "metadata": {},
   "outputs": [],
   "source": []
  }
 ],
 "metadata": {
  "kernelspec": {
   "display_name": "Python 3 (ipykernel)",
   "language": "python",
   "name": "python3"
  },
  "language_info": {
   "codemirror_mode": {
    "name": "ipython",
    "version": 3
   },
   "file_extension": ".py",
   "mimetype": "text/x-python",
   "name": "python",
   "nbconvert_exporter": "python",
   "pygments_lexer": "ipython3",
   "version": "3.8.8"
  }
 },
 "nbformat": 4,
 "nbformat_minor": 5
}
